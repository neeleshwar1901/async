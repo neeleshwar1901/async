{
  "nbformat": 4,
  "nbformat_minor": 0,
  "metadata": {
    "colab": {
      "provenance": []
    },
    "kernelspec": {
      "name": "python3",
      "display_name": "Python 3"
    },
    "language_info": {
      "name": "python"
    }
  },
  "cells": [
    {
      "cell_type": "code",
      "execution_count": null,
      "metadata": {
        "id": "2xeuZl6a2SEF"
      },
      "outputs": [],
      "source": []
    },
    {
      "cell_type": "markdown",
      "source": [
        "1.Demonstrate JavaScript's Single-Threaded Nature\n",
        "\n",
        " Question:\n",
        "\n",
        " Write an example to show that JavaScript is single-threaded by creating two competing tasks, one that\n",
        " blocks the event loop and another async function that waits for a promise"
      ],
      "metadata": {
        "id": "XN2K8vQY2U37"
      }
    },
    {
      "cell_type": "code",
      "source": [
        "// Async task\n",
        "function asyncTask() {\n",
        "  console.log(\"Async task started\");\n",
        "\n",
        "  // Simulate a delay using setTimeout (goes to the event queue)\n",
        "  setTimeout(() => {\n",
        "    console.log(\"Async task finished (after delay)\");\n",
        "  }, 0);\n",
        "}\n",
        "\n",
        "// Blocking task\n",
        "function blockingTask() {\n",
        "  console.log(\"Blocking task started\");\n",
        "\n",
        "  // A CPU-heavy operation that blocks the event loop\n",
        "  const start = Date.now();\n",
        "  while (Date.now() - start < 3000) {\n",
        "    // busy-wait for 3 seconds\n",
        "  }\n",
        "\n",
        "  console.log(\"Blocking task finished\");\n",
        "}\n",
        "\n",
        "// Run both\n",
        "asyncTask();\n",
        "blockingTask();\n"
      ],
      "metadata": {
        "id": "jWu4j9oo2qyP"
      },
      "execution_count": null,
      "outputs": []
    },
    {
      "cell_type": "markdown",
      "source": [
        "2.Why Does JavaScript Not Execute Asynchronously by Default?\n",
        "\n",
        " Question:\n",
        "\n",
        " JavaScript is often called synchronous and single-threaded, yet it handles asynchronous tasks like AJAX\n",
        " requests, timers, and event listeners\n",
        "-Explain why JavaScript does not execute asynchronously by defaultB\n",
        "-Write a code snippet to prove that JavaScript is inherently synchronousB"
      ],
      "metadata": {
        "id": "fdw0J6eM2sCx"
      }
    },
    {
      "cell_type": "markdown",
      "source": [
        "JavaScript is synchronous and single-threaded by design to simplify programming logic and avoid race conditions that occur in multi-threaded environments. When JavaScript was first created for the browser, its primary purpose was to manipulate the DOM. Making it asynchronous by default would have led to unpredictable UI updates and complicated logic management. Therefore, it executes one operation at a time in a deterministic order—this makes the code easier to reason about.\n",
        "\n",
        "Asynchronous behavior in JavaScript (such as with setTimeout, Promises, AJAX, etc.) is not native to the language core itself but is enabled via browser APIs (or Node.js APIs). These APIs interact with JavaScript's event loop and callback queue to handle asynchronous operations without blocking the main thread."
      ],
      "metadata": {
        "id": "7xs3cKy53ETz"
      }
    },
    {
      "cell_type": "code",
      "source": [
        "console.log(\"1. Start\");\n",
        "\n",
        "function greet() {\n",
        "  console.log(\"2. Hello from a synchronous function\");\n",
        "}\n",
        "\n",
        "greet();\n",
        "\n",
        "console.log(\"3. End\");\n"
      ],
      "metadata": {
        "id": "fJwpzdMt3Fz8"
      },
      "execution_count": null,
      "outputs": []
    },
    {
      "cell_type": "markdown",
      "source": [
        "Asynchronous"
      ],
      "metadata": {
        "id": "ak2Qtinw3MmP"
      }
    },
    {
      "cell_type": "code",
      "source": [
        "console.log(\"1. Start\");\n",
        "\n",
        "setTimeout(() => {\n",
        "  console.log(\"2. Inside setTimeout\");\n",
        "}, 0);\n",
        "\n",
        "console.log(\"3. End\");\n"
      ],
      "metadata": {
        "id": "T8Zhw87U3POP"
      },
      "execution_count": null,
      "outputs": []
    },
    {
      "cell_type": "markdown",
      "source": [
        "3.Chaining Promises with setTimeout\n",
        "\n",
        " Modify the delay function to chain multiple promises so that three messages are logged in sequence with\n",
        " delays"
      ],
      "metadata": {
        "id": "grP_MaQj3S1e"
      }
    },
    {
      "cell_type": "code",
      "source": [
        "// Delay function that returns a Promise\n",
        "function delay(ms, message) {\n",
        "  return new Promise((resolve) => {\n",
        "    setTimeout(() => {\n",
        "      console.log(message);\n",
        "      resolve();\n",
        "    }, ms);\n",
        "  });\n",
        "}\n",
        "\n",
        "// Chaining delays\n",
        "delay(1000, \"Message 1 after 1 second\")\n",
        "  .then(() => delay(2000, \"Message 2 after 2 more seconds\"))\n",
        "  .then(() => delay(1000, \"Message 3 after 1 more second\"))\n",
        "  .then(() => console.log(\"All messages logged!\"));\n"
      ],
      "metadata": {
        "id": "l4t_B_F73hRC"
      },
      "execution_count": null,
      "outputs": []
    },
    {
      "cell_type": "markdown",
      "source": [
        "4.What are the different states of a Promise, and how do they transition"
      ],
      "metadata": {
        "id": "JsFvxxE23oij"
      }
    },
    {
      "cell_type": "markdown",
      "source": [
        "A JavaScript Promise represents the eventual completion (or failure) of an asynchronous operation. It has three primary states, and they transition in a specific, one-way flow:\n",
        "State Transitions\n",
        "\n",
        "A Promise is created in the pending state.\n",
        "\n",
        "It transitions to:\n",
        "\n",
        "fulfilled when resolve(value) is called.\n",
        "\n",
        "rejected when reject(error) is called.\n",
        "\n",
        "Once a Promise is settled (either fulfilled or rejected), it is immutable—its state cannot change again.\n",
        "\n",
        "Example:"
      ],
      "metadata": {
        "id": "507CIy1v3sTt"
      }
    },
    {
      "cell_type": "code",
      "source": [
        "const promise = new Promise((resolve, reject) => {\n",
        "  setTimeout(() => {\n",
        "    resolve(\"Data loaded\");  // transitions to fulfilled\n",
        "    // reject(\"Error occurred\"); // would transition to rejected\n",
        "  }, 1000);\n",
        "});\n",
        "\n",
        "promise.then(result => {\n",
        "  console.log(\"Success:\", result);\n",
        "}).catch(error => {\n",
        "  console.log(\"Failed:\", error);\n",
        "});\n"
      ],
      "metadata": {
        "id": "qgm4OYti4ADG"
      },
      "execution_count": null,
      "outputs": []
    },
    {
      "cell_type": "markdown",
      "source": [
        "5.How does the JavaScript event loop handle Promises differently from setTimeout?"
      ],
      "metadata": {
        "id": "zC0idd9r4A_F"
      }
    },
    {
      "cell_type": "markdown",
      "source": [
        "The distinction between how the event loop handles Promises and setTimeout plays a critical role in writing efficient and predictable asynchronous JavaScript. Promises, being part of the micro-task queue, are treated with higher priority and are executed immediately after the currently executing script completes, before any rendering or macro-tasks like setTimeout or setInterval. This ensures that Promise-based code can respond more quickly to asynchronous events, such as fetching data or resolving user interactions.\n",
        "\n",
        "On the other hand, setTimeout belongs to the macro-task queue, which is processed only after all micro-tasks in the current iteration of the event loop have been executed. Even with a delay of 0ms, a setTimeout callback will wait until the micro-task queue is empty, making it less immediate than Promises. This design allows JavaScript to maintain a consistent order of operations, avoiding race conditions and ensuring smoother UI updates.\n",
        "\n",
        "Understanding this difference is crucial when chaining asynchronous tasks or managing dependencies between operations. For example, using Promises ensures that a sequence of dependent operations executes in the correct order without being interrupted by timers or other external events. Conversely, setTimeout can be useful when intentionally deferring execution to the next cycle of the event loop, such as allowing the browser time to repaint the UI before executing a heavy operation. In summary, while both Promises and setTimeout enable asynchronous behavior, they serve different purposes and are handled by the event loop in distinct ways to optimize performance and responsiveness."
      ],
      "metadata": {
        "id": "gDStA2Ik4YLi"
      }
    }
  ]
}